{
 "cells": [
  {
   "cell_type": "code",
   "execution_count": 1,
   "metadata": {
    "collapsed": true
   },
   "outputs": [],
   "source": [
    "import pandas as pd"
   ]
  },
  {
   "cell_type": "code",
   "execution_count": 2,
   "metadata": {
    "collapsed": true
   },
   "outputs": [],
   "source": [
    "df=pd.read_excel('engine_gbp.xlsx')"
   ]
  },
  {
   "cell_type": "code",
   "execution_count": 3,
   "metadata": {},
   "outputs": [
    {
     "data": {
      "text/html": [
       "<div>\n",
       "<style>\n",
       "    .dataframe thead tr:only-child th {\n",
       "        text-align: right;\n",
       "    }\n",
       "\n",
       "    .dataframe thead th {\n",
       "        text-align: left;\n",
       "    }\n",
       "\n",
       "    .dataframe tbody tr th {\n",
       "        vertical-align: top;\n",
       "    }\n",
       "</style>\n",
       "<table border=\"1\" class=\"dataframe\">\n",
       "  <thead>\n",
       "    <tr style=\"text-align: right;\">\n",
       "      <th></th>\n",
       "      <th>Name</th>\n",
       "      <th>Curve</th>\n",
       "      <th>Type</th>\n",
       "      <th>Forecast Curve Left</th>\n",
       "      <th>Forecast Curve Right</th>\n",
       "      <th>Discount Curve Left</th>\n",
       "      <th>Discount Curve Right</th>\n",
       "      <th>Convention Left</th>\n",
       "      <th>Convention Right</th>\n",
       "      <th>Start</th>\n",
       "      <th>Length</th>\n",
       "      <th>Enabled</th>\n",
       "    </tr>\n",
       "  </thead>\n",
       "  <tbody>\n",
       "    <tr>\n",
       "      <th>0</th>\n",
       "      <td>GBP.LIBOR.3M__DepositE:1D</td>\n",
       "      <td>GBP.LIBOR.3M</td>\n",
       "      <td>Deposit</td>\n",
       "      <td>GBP.LIBOR.3M</td>\n",
       "      <td>null</td>\n",
       "      <td>GBP.LIBOR.3M</td>\n",
       "      <td>null</td>\n",
       "      <td>GBP.LIBOR.3M</td>\n",
       "      <td>GBP.LIBOR.3M</td>\n",
       "      <td>E</td>\n",
       "      <td>1D</td>\n",
       "      <td>Y</td>\n",
       "    </tr>\n",
       "    <tr>\n",
       "      <th>1</th>\n",
       "      <td>GBP.LIBOR.3M__DepositE:5D</td>\n",
       "      <td>GBP.LIBOR.3M</td>\n",
       "      <td>Deposit</td>\n",
       "      <td>GBP.LIBOR.3M</td>\n",
       "      <td>null</td>\n",
       "      <td>GBP.LIBOR.3M</td>\n",
       "      <td>null</td>\n",
       "      <td>GBP.LIBOR.3M</td>\n",
       "      <td>GBP.LIBOR.3M</td>\n",
       "      <td>E</td>\n",
       "      <td>5D</td>\n",
       "      <td>Y</td>\n",
       "    </tr>\n",
       "    <tr>\n",
       "      <th>2</th>\n",
       "      <td>GBP.LIBOR.3M__DepositE:1M</td>\n",
       "      <td>GBP.LIBOR.3M</td>\n",
       "      <td>Deposit</td>\n",
       "      <td>GBP.LIBOR.3M</td>\n",
       "      <td>null</td>\n",
       "      <td>GBP.LIBOR.3M</td>\n",
       "      <td>null</td>\n",
       "      <td>GBP.LIBOR.3M</td>\n",
       "      <td>GBP.LIBOR.3M</td>\n",
       "      <td>E</td>\n",
       "      <td>1M</td>\n",
       "      <td>Y</td>\n",
       "    </tr>\n",
       "    <tr>\n",
       "      <th>3</th>\n",
       "      <td>GBP.LIBOR.3M__Future1F:3M</td>\n",
       "      <td>GBP.LIBOR.3M</td>\n",
       "      <td>Future</td>\n",
       "      <td>GBP.LIBOR.3M</td>\n",
       "      <td>null</td>\n",
       "      <td>GBP.LIBOR.3M</td>\n",
       "      <td>null</td>\n",
       "      <td>GBP.LIBOR.3M</td>\n",
       "      <td>GBP.LIBOR.3M</td>\n",
       "      <td>1F</td>\n",
       "      <td>3M</td>\n",
       "      <td>Y</td>\n",
       "    </tr>\n",
       "    <tr>\n",
       "      <th>4</th>\n",
       "      <td>GBP.LIBOR.3M__DepositE:2M</td>\n",
       "      <td>GBP.LIBOR.3M</td>\n",
       "      <td>Deposit</td>\n",
       "      <td>GBP.LIBOR.3M</td>\n",
       "      <td>null</td>\n",
       "      <td>GBP.LIBOR.3M</td>\n",
       "      <td>null</td>\n",
       "      <td>GBP.LIBOR.3M</td>\n",
       "      <td>GBP.LIBOR.3M</td>\n",
       "      <td>E</td>\n",
       "      <td>2M</td>\n",
       "      <td>Y</td>\n",
       "    </tr>\n",
       "    <tr>\n",
       "      <th>5</th>\n",
       "      <td>GBP.LIBOR.3M__DepositE:3M</td>\n",
       "      <td>GBP.LIBOR.3M</td>\n",
       "      <td>Deposit</td>\n",
       "      <td>GBP.LIBOR.3M</td>\n",
       "      <td>null</td>\n",
       "      <td>GBP.LIBOR.3M</td>\n",
       "      <td>null</td>\n",
       "      <td>GBP.LIBOR.3M</td>\n",
       "      <td>GBP.LIBOR.3M</td>\n",
       "      <td>E</td>\n",
       "      <td>3M</td>\n",
       "      <td>Y</td>\n",
       "    </tr>\n",
       "    <tr>\n",
       "      <th>6</th>\n",
       "      <td>GBP.LIBOR.3M__Future2F:3M</td>\n",
       "      <td>GBP.LIBOR.3M</td>\n",
       "      <td>Future</td>\n",
       "      <td>GBP.LIBOR.3M</td>\n",
       "      <td>null</td>\n",
       "      <td>GBP.LIBOR.3M</td>\n",
       "      <td>null</td>\n",
       "      <td>GBP.LIBOR.3M</td>\n",
       "      <td>GBP.LIBOR.3M</td>\n",
       "      <td>2F</td>\n",
       "      <td>3M</td>\n",
       "      <td>Y</td>\n",
       "    </tr>\n",
       "    <tr>\n",
       "      <th>7</th>\n",
       "      <td>GBP.LIBOR.3M__DepositE:6M</td>\n",
       "      <td>GBP.LIBOR.3M</td>\n",
       "      <td>Deposit</td>\n",
       "      <td>GBP.LIBOR.3M</td>\n",
       "      <td>null</td>\n",
       "      <td>GBP.LIBOR.3M</td>\n",
       "      <td>null</td>\n",
       "      <td>GBP.LIBOR.3M</td>\n",
       "      <td>GBP.LIBOR.3M</td>\n",
       "      <td>E</td>\n",
       "      <td>6M</td>\n",
       "      <td>Y</td>\n",
       "    </tr>\n",
       "    <tr>\n",
       "      <th>8</th>\n",
       "      <td>GBP.LIBOR.3M__Future3F:3M</td>\n",
       "      <td>GBP.LIBOR.3M</td>\n",
       "      <td>Future</td>\n",
       "      <td>GBP.LIBOR.3M</td>\n",
       "      <td>null</td>\n",
       "      <td>GBP.LIBOR.3M</td>\n",
       "      <td>null</td>\n",
       "      <td>GBP.LIBOR.3M</td>\n",
       "      <td>GBP.LIBOR.3M</td>\n",
       "      <td>3F</td>\n",
       "      <td>3M</td>\n",
       "      <td>Y</td>\n",
       "    </tr>\n",
       "    <tr>\n",
       "      <th>9</th>\n",
       "      <td>GBP.LIBOR.3M__Future4F:3M</td>\n",
       "      <td>GBP.LIBOR.3M</td>\n",
       "      <td>Future</td>\n",
       "      <td>GBP.LIBOR.3M</td>\n",
       "      <td>null</td>\n",
       "      <td>GBP.LIBOR.3M</td>\n",
       "      <td>null</td>\n",
       "      <td>GBP.LIBOR.3M</td>\n",
       "      <td>GBP.LIBOR.3M</td>\n",
       "      <td>4F</td>\n",
       "      <td>3M</td>\n",
       "      <td>Y</td>\n",
       "    </tr>\n",
       "    <tr>\n",
       "      <th>10</th>\n",
       "      <td>GBP.LIBOR.3M__SwapE:1Y</td>\n",
       "      <td>GBP.LIBOR.3M</td>\n",
       "      <td>Swap</td>\n",
       "      <td>GBP.LIBOR.3M</td>\n",
       "      <td>null</td>\n",
       "      <td>GBP.LIBOR.3M</td>\n",
       "      <td>null</td>\n",
       "      <td>GBP.LIBOR.3M</td>\n",
       "      <td>GBP.LIBOR.3M</td>\n",
       "      <td>E</td>\n",
       "      <td>1Y</td>\n",
       "      <td>Y</td>\n",
       "    </tr>\n",
       "    <tr>\n",
       "      <th>11</th>\n",
       "      <td>GBP.LIBOR.3M__Future5F:3M</td>\n",
       "      <td>GBP.LIBOR.3M</td>\n",
       "      <td>Future</td>\n",
       "      <td>GBP.LIBOR.3M</td>\n",
       "      <td>null</td>\n",
       "      <td>GBP.LIBOR.3M</td>\n",
       "      <td>null</td>\n",
       "      <td>GBP.LIBOR.3M</td>\n",
       "      <td>GBP.LIBOR.3M</td>\n",
       "      <td>5F</td>\n",
       "      <td>3M</td>\n",
       "      <td>Y</td>\n",
       "    </tr>\n",
       "    <tr>\n",
       "      <th>12</th>\n",
       "      <td>GBP.LIBOR.3M__SwapE:2Y</td>\n",
       "      <td>GBP.LIBOR.3M</td>\n",
       "      <td>Swap</td>\n",
       "      <td>GBP.LIBOR.3M</td>\n",
       "      <td>null</td>\n",
       "      <td>GBP.LIBOR.3M</td>\n",
       "      <td>null</td>\n",
       "      <td>GBP.LIBOR.3M</td>\n",
       "      <td>GBP.LIBOR.3M</td>\n",
       "      <td>E</td>\n",
       "      <td>2Y</td>\n",
       "      <td>Y</td>\n",
       "    </tr>\n",
       "    <tr>\n",
       "      <th>13</th>\n",
       "      <td>GBP.LIBOR.3M__SwapE:3Y</td>\n",
       "      <td>GBP.LIBOR.3M</td>\n",
       "      <td>Swap</td>\n",
       "      <td>GBP.LIBOR.3M</td>\n",
       "      <td>null</td>\n",
       "      <td>GBP.LIBOR.3M</td>\n",
       "      <td>null</td>\n",
       "      <td>GBP.LIBOR.3M</td>\n",
       "      <td>GBP.LIBOR.3M</td>\n",
       "      <td>E</td>\n",
       "      <td>3Y</td>\n",
       "      <td>Y</td>\n",
       "    </tr>\n",
       "    <tr>\n",
       "      <th>14</th>\n",
       "      <td>GBP.LIBOR.3M__SwapE:4Y</td>\n",
       "      <td>GBP.LIBOR.3M</td>\n",
       "      <td>Swap</td>\n",
       "      <td>GBP.LIBOR.3M</td>\n",
       "      <td>null</td>\n",
       "      <td>GBP.LIBOR.3M</td>\n",
       "      <td>null</td>\n",
       "      <td>GBP.LIBOR.3M</td>\n",
       "      <td>GBP.LIBOR.3M</td>\n",
       "      <td>E</td>\n",
       "      <td>4Y</td>\n",
       "      <td>Y</td>\n",
       "    </tr>\n",
       "    <tr>\n",
       "      <th>15</th>\n",
       "      <td>GBP.LIBOR.3M__SwapE:5Y</td>\n",
       "      <td>GBP.LIBOR.3M</td>\n",
       "      <td>Swap</td>\n",
       "      <td>GBP.LIBOR.3M</td>\n",
       "      <td>null</td>\n",
       "      <td>GBP.LIBOR.3M</td>\n",
       "      <td>null</td>\n",
       "      <td>GBP.LIBOR.3M</td>\n",
       "      <td>GBP.LIBOR.3M</td>\n",
       "      <td>E</td>\n",
       "      <td>5Y</td>\n",
       "      <td>Y</td>\n",
       "    </tr>\n",
       "  </tbody>\n",
       "</table>\n",
       "</div>"
      ],
      "text/plain": [
       "                         Name         Curve     Type Forecast Curve Left  \\\n",
       "0   GBP.LIBOR.3M__DepositE:1D  GBP.LIBOR.3M  Deposit        GBP.LIBOR.3M   \n",
       "1   GBP.LIBOR.3M__DepositE:5D  GBP.LIBOR.3M  Deposit        GBP.LIBOR.3M   \n",
       "2   GBP.LIBOR.3M__DepositE:1M  GBP.LIBOR.3M  Deposit        GBP.LIBOR.3M   \n",
       "3   GBP.LIBOR.3M__Future1F:3M  GBP.LIBOR.3M   Future        GBP.LIBOR.3M   \n",
       "4   GBP.LIBOR.3M__DepositE:2M  GBP.LIBOR.3M  Deposit        GBP.LIBOR.3M   \n",
       "5   GBP.LIBOR.3M__DepositE:3M  GBP.LIBOR.3M  Deposit        GBP.LIBOR.3M   \n",
       "6   GBP.LIBOR.3M__Future2F:3M  GBP.LIBOR.3M   Future        GBP.LIBOR.3M   \n",
       "7   GBP.LIBOR.3M__DepositE:6M  GBP.LIBOR.3M  Deposit        GBP.LIBOR.3M   \n",
       "8   GBP.LIBOR.3M__Future3F:3M  GBP.LIBOR.3M   Future        GBP.LIBOR.3M   \n",
       "9   GBP.LIBOR.3M__Future4F:3M  GBP.LIBOR.3M   Future        GBP.LIBOR.3M   \n",
       "10     GBP.LIBOR.3M__SwapE:1Y  GBP.LIBOR.3M     Swap        GBP.LIBOR.3M   \n",
       "11  GBP.LIBOR.3M__Future5F:3M  GBP.LIBOR.3M   Future        GBP.LIBOR.3M   \n",
       "12     GBP.LIBOR.3M__SwapE:2Y  GBP.LIBOR.3M     Swap        GBP.LIBOR.3M   \n",
       "13     GBP.LIBOR.3M__SwapE:3Y  GBP.LIBOR.3M     Swap        GBP.LIBOR.3M   \n",
       "14     GBP.LIBOR.3M__SwapE:4Y  GBP.LIBOR.3M     Swap        GBP.LIBOR.3M   \n",
       "15     GBP.LIBOR.3M__SwapE:5Y  GBP.LIBOR.3M     Swap        GBP.LIBOR.3M   \n",
       "\n",
       "   Forecast Curve Right Discount Curve Left Discount Curve Right  \\\n",
       "0                  null        GBP.LIBOR.3M                 null   \n",
       "1                  null        GBP.LIBOR.3M                 null   \n",
       "2                  null        GBP.LIBOR.3M                 null   \n",
       "3                  null        GBP.LIBOR.3M                 null   \n",
       "4                  null        GBP.LIBOR.3M                 null   \n",
       "5                  null        GBP.LIBOR.3M                 null   \n",
       "6                  null        GBP.LIBOR.3M                 null   \n",
       "7                  null        GBP.LIBOR.3M                 null   \n",
       "8                  null        GBP.LIBOR.3M                 null   \n",
       "9                  null        GBP.LIBOR.3M                 null   \n",
       "10                 null        GBP.LIBOR.3M                 null   \n",
       "11                 null        GBP.LIBOR.3M                 null   \n",
       "12                 null        GBP.LIBOR.3M                 null   \n",
       "13                 null        GBP.LIBOR.3M                 null   \n",
       "14                 null        GBP.LIBOR.3M                 null   \n",
       "15                 null        GBP.LIBOR.3M                 null   \n",
       "\n",
       "   Convention Left Convention Right Start Length Enabled  \n",
       "0     GBP.LIBOR.3M     GBP.LIBOR.3M     E     1D       Y  \n",
       "1     GBP.LIBOR.3M     GBP.LIBOR.3M     E     5D       Y  \n",
       "2     GBP.LIBOR.3M     GBP.LIBOR.3M     E     1M       Y  \n",
       "3     GBP.LIBOR.3M     GBP.LIBOR.3M    1F     3M       Y  \n",
       "4     GBP.LIBOR.3M     GBP.LIBOR.3M     E     2M       Y  \n",
       "5     GBP.LIBOR.3M     GBP.LIBOR.3M     E     3M       Y  \n",
       "6     GBP.LIBOR.3M     GBP.LIBOR.3M    2F     3M       Y  \n",
       "7     GBP.LIBOR.3M     GBP.LIBOR.3M     E     6M       Y  \n",
       "8     GBP.LIBOR.3M     GBP.LIBOR.3M    3F     3M       Y  \n",
       "9     GBP.LIBOR.3M     GBP.LIBOR.3M    4F     3M       Y  \n",
       "10    GBP.LIBOR.3M     GBP.LIBOR.3M     E     1Y       Y  \n",
       "11    GBP.LIBOR.3M     GBP.LIBOR.3M    5F     3M       Y  \n",
       "12    GBP.LIBOR.3M     GBP.LIBOR.3M     E     2Y       Y  \n",
       "13    GBP.LIBOR.3M     GBP.LIBOR.3M     E     3Y       Y  \n",
       "14    GBP.LIBOR.3M     GBP.LIBOR.3M     E     4Y       Y  \n",
       "15    GBP.LIBOR.3M     GBP.LIBOR.3M     E     5Y       Y  "
      ]
     },
     "execution_count": 3,
     "metadata": {},
     "output_type": "execute_result"
    }
   ],
   "source": [
    "df"
   ]
  },
  {
   "cell_type": "code",
   "execution_count": 4,
   "metadata": {
    "collapsed": true
   },
   "outputs": [],
   "source": [
    "df.to_clipboard()"
   ]
  },
  {
   "cell_type": "code",
   "execution_count": 5,
   "metadata": {},
   "outputs": [
    {
     "data": {
      "text/plain": [
       "['Name',\n",
       " 'Curve',\n",
       " 'Type',\n",
       " 'Forecast Curve Left',\n",
       " 'Forecast Curve Right',\n",
       " 'Discount Curve Left',\n",
       " 'Discount Curve Right',\n",
       " 'Convention Left',\n",
       " 'Convention Right',\n",
       " 'Start',\n",
       " 'Length',\n",
       " 'Enabled']"
      ]
     },
     "execution_count": 5,
     "metadata": {},
     "output_type": "execute_result"
    }
   ],
   "source": [
    "[x for x in df.columns]"
   ]
  },
  {
   "cell_type": "code",
   "execution_count": 6,
   "metadata": {
    "pycharm": {
     "is_executing": false
    }
   },
   "outputs": [
    {
     "name": "stdout",
     "output_type": "stream",
     "text": [
      "Using matplotlib backend: Qt5Agg\n",
      "Populating the interactive namespace from numpy and matplotlib\n"
     ]
    }
   ],
   "source": [
    "%pylab\n",
    "%matplotlib inline\n",
    "%run jupyter_helpers\n",
    "%run yc_framework"
   ]
  },
  {
   "cell_type": "code",
   "execution_count": 7,
   "metadata": {
    "collapsed": true,
    "pycharm": {
     "is_executing": false
    }
   },
   "outputs": [],
   "source": [
    "eval_date=create_date('1990-05-17')"
   ]
  },
  {
   "cell_type": "code",
   "execution_count": 8,
   "metadata": {
    "pycharm": {
     "is_executing": false
    }
   },
   "outputs": [],
   "source": [
    "curve_builder = CurveBuilder('engine_gbp.xlsx', eval_date)"
   ]
  },
  {
   "cell_type": "code",
   "execution_count": 9,
   "metadata": {},
   "outputs": [],
   "source": [
    "import collections\n",
    "gbp_quotes = pd.read_excel('gbp_quotes.xlsx')\n",
    "quote_dict=collections.OrderedDict(tuple(tuple(x) for x in gbp_quotes.values))"
   ]
  },
  {
   "cell_type": "code",
   "execution_count": 10,
   "metadata": {
    "collapsed": true
   },
   "outputs": [],
   "source": [
    "price_ladder = PriceLadder(quote_dict)"
   ]
  },
  {
   "cell_type": "code",
   "execution_count": 11,
   "metadata": {},
   "outputs": [
    {
     "data": {
      "text/html": [
       "<div>\n",
       "<style>\n",
       "    .dataframe thead tr:only-child th {\n",
       "        text-align: right;\n",
       "    }\n",
       "\n",
       "    .dataframe thead th {\n",
       "        text-align: left;\n",
       "    }\n",
       "\n",
       "    .dataframe tbody tr th {\n",
       "        vertical-align: top;\n",
       "    }\n",
       "</style>\n",
       "<table border=\"1\" class=\"dataframe\">\n",
       "  <thead>\n",
       "    <tr style=\"text-align: right;\">\n",
       "      <th></th>\n",
       "      <th>Price</th>\n",
       "    </tr>\n",
       "  </thead>\n",
       "  <tbody>\n",
       "    <tr>\n",
       "      <th>GBP.LIBOR.3M__DepositE:1D</th>\n",
       "      <td>14.25000</td>\n",
       "    </tr>\n",
       "    <tr>\n",
       "      <th>GBP.LIBOR.3M__DepositE:5D</th>\n",
       "      <td>14.75000</td>\n",
       "    </tr>\n",
       "    <tr>\n",
       "      <th>GBP.LIBOR.3M__DepositE:1M</th>\n",
       "      <td>15.00000</td>\n",
       "    </tr>\n",
       "    <tr>\n",
       "      <th>GBP.LIBOR.3M__Future1F:3M</th>\n",
       "      <td>84.80000</td>\n",
       "    </tr>\n",
       "    <tr>\n",
       "      <th>GBP.LIBOR.3M__DepositE:2M</th>\n",
       "      <td>15.12500</td>\n",
       "    </tr>\n",
       "    <tr>\n",
       "      <th>GBP.LIBOR.3M__DepositE:3M</th>\n",
       "      <td>15.15625</td>\n",
       "    </tr>\n",
       "    <tr>\n",
       "      <th>GBP.LIBOR.3M__Future2F:3M</th>\n",
       "      <td>85.05000</td>\n",
       "    </tr>\n",
       "    <tr>\n",
       "      <th>GBP.LIBOR.3M__DepositE:6M</th>\n",
       "      <td>15.37500</td>\n",
       "    </tr>\n",
       "    <tr>\n",
       "      <th>GBP.LIBOR.3M__Future3F:3M</th>\n",
       "      <td>85.55000</td>\n",
       "    </tr>\n",
       "    <tr>\n",
       "      <th>GBP.LIBOR.3M__Future4F:3M</th>\n",
       "      <td>86.05000</td>\n",
       "    </tr>\n",
       "    <tr>\n",
       "      <th>GBP.LIBOR.3M__SwapE:1Y</th>\n",
       "      <td>15.55000</td>\n",
       "    </tr>\n",
       "    <tr>\n",
       "      <th>GBP.LIBOR.3M__Future5F:3M</th>\n",
       "      <td>86.53000</td>\n",
       "    </tr>\n",
       "    <tr>\n",
       "      <th>GBP.LIBOR.3M__SwapE:2Y</th>\n",
       "      <td>14.25000</td>\n",
       "    </tr>\n",
       "    <tr>\n",
       "      <th>GBP.LIBOR.3M__SwapE:3Y</th>\n",
       "      <td>13.95000</td>\n",
       "    </tr>\n",
       "    <tr>\n",
       "      <th>GBP.LIBOR.3M__SwapE:4Y</th>\n",
       "      <td>13.85000</td>\n",
       "    </tr>\n",
       "    <tr>\n",
       "      <th>GBP.LIBOR.3M__SwapE:5Y</th>\n",
       "      <td>13.75000</td>\n",
       "    </tr>\n",
       "  </tbody>\n",
       "</table>\n",
       "</div>"
      ],
      "text/plain": [
       "                              Price\n",
       "GBP.LIBOR.3M__DepositE:1D  14.25000\n",
       "GBP.LIBOR.3M__DepositE:5D  14.75000\n",
       "GBP.LIBOR.3M__DepositE:1M  15.00000\n",
       "GBP.LIBOR.3M__Future1F:3M  84.80000\n",
       "GBP.LIBOR.3M__DepositE:2M  15.12500\n",
       "GBP.LIBOR.3M__DepositE:3M  15.15625\n",
       "GBP.LIBOR.3M__Future2F:3M  85.05000\n",
       "GBP.LIBOR.3M__DepositE:6M  15.37500\n",
       "GBP.LIBOR.3M__Future3F:3M  85.55000\n",
       "GBP.LIBOR.3M__Future4F:3M  86.05000\n",
       "GBP.LIBOR.3M__SwapE:1Y     15.55000\n",
       "GBP.LIBOR.3M__Future5F:3M  86.53000\n",
       "GBP.LIBOR.3M__SwapE:2Y     14.25000\n",
       "GBP.LIBOR.3M__SwapE:3Y     13.95000\n",
       "GBP.LIBOR.3M__SwapE:4Y     13.85000\n",
       "GBP.LIBOR.3M__SwapE:5Y     13.75000"
      ]
     },
     "execution_count": 11,
     "metadata": {},
     "output_type": "execute_result"
    }
   ],
   "source": [
    "price_ladder.dataframe()"
   ]
  },
  {
   "cell_type": "code",
   "execution_count": 12,
   "metadata": {},
   "outputs": [
    {
     "name": "stdout",
     "output_type": "stream",
     "text": [
      "Solving stage 1/1 containing curves GBP.LIBOR.3M (16 pillars)\n",
      "Done\n"
     ]
    }
   ],
   "source": [
    "built_curve=curve_builder.build_curves(price_ladder)"
   ]
  },
  {
   "cell_type": "code",
   "execution_count": 13,
   "metadata": {},
   "outputs": [
    {
     "data": {
      "image/png": "[encoded data removed]",
      "text/plain": [
       "<matplotlib.figure.Figure at 0x7f65908665f8>"
      ]
     },
     "metadata": {},
     "output_type": "display_data"
    }
   ],
   "source": [
    "figsize(16, 6)\n",
    "title('Curvebuilder output')\n",
    "linestyle('solid'), built_curve.output_curvemap.plot(), legend()\n",
    "linestyle('dotted'), built_curve.output_curvemap.plot();"
   ]
  },
  {
   "cell_type": "code",
   "execution_count": 14,
   "metadata": {},
   "outputs": [
    {
     "data": {
      "text/plain": [
       "[0.99960974140232928,\n",
       " 0.99798352643631028,\n",
       " 0.98742053293649201,\n",
       " 0.97534579682742506,\n",
       " 0.96320364170118278,\n",
       " 0.94981671417727553,\n",
       " 0.92806834651193049,\n",
       " 0.91606421701656382,\n",
       " 0.884549137716374,\n",
       " 0.8582541375890278,\n",
       " 0.8540693793469194,\n",
       " 0.82614792719346186,\n",
       " 0.75637736523581045,\n",
       " 0.66416311317637911,\n",
       " 0.58182965828772193,\n",
       " 0.51103099260921703]"
      ]
     },
     "execution_count": 14,
     "metadata": {},
     "output_type": "execute_result"
    }
   ],
   "source": [
    "built_curve.output_curvemap.get_all_dofs('GBP.LIBOR.3M')"
   ]
  },
  {
   "cell_type": "code",
   "execution_count": null,
   "metadata": {},
   "outputs": [],
   "source": []
  },
  {
   "cell_type": "code",
   "execution_count": null,
   "metadata": {
    "collapsed": true
   },
   "outputs": [],
   "source": []
  }
 ],
 "metadata": {
  "kernelspec": {
   "display_name": "Python 3",
   "language": "python",
   "name": "python3"
  },
  "language_info": {
   "codemirror_mode": {
    "name": "ipython",
    "version": 3
   },
   "file_extension": ".py",
   "mimetype": "text/x-python",
   "name": "python",
   "nbconvert_exporter": "python",
   "pygments_lexer": "ipython3",
   "version": "3.6.2"
  },
  "pycharm": {
   "stem_cell": {
    "cell_type": "raw",
    "metadata": {
     "collapsed": false
    },
    "source": []
   }
  }
 },
 "nbformat": 4,
 "nbformat_minor": 2
}
